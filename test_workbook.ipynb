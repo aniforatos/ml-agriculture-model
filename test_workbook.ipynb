{
 "cells": [
  {
   "cell_type": "code",
   "execution_count": 1,
   "metadata": {},
   "outputs": [],
   "source": [
    "import struct\n",
    "from exif import Image"
   ]
  },
  {
   "cell_type": "code",
   "execution_count": 3,
   "metadata": {},
   "outputs": [],
   "source": [
    "folder_path = \"./workspace/images/test\"\n",
    "img = \"DJI_0026.jpg\"\n",
    "f = f'{folder_path}/{img}'\n",
    "image = Image(open(f, \"rb\"))\n"
   ]
  },
  {
   "cell_type": "code",
   "execution_count": 5,
   "metadata": {},
   "outputs": [
    {
     "data": {
      "text/plain": [
       "['_exif_ifd_pointer',\n",
       " '_gps_ifd_pointer',\n",
       " '_interoperability_ifd_Pointer',\n",
       " 'bits_per_sample',\n",
       " 'body_serial_number',\n",
       " 'color_space',\n",
       " 'components_configuration',\n",
       " 'compression',\n",
       " 'contrast',\n",
       " 'datetime',\n",
       " 'datetime_digitized',\n",
       " 'datetime_original',\n",
       " 'device_setting_description',\n",
       " 'digital_zoom_ratio',\n",
       " 'exif_version',\n",
       " 'exposure_bias_value',\n",
       " 'exposure_mode',\n",
       " 'exposure_program',\n",
       " 'exposure_time',\n",
       " 'f_number',\n",
       " 'file_source',\n",
       " 'flash',\n",
       " 'flashpix_version',\n",
       " 'focal_length',\n",
       " 'focal_length_in_35mm_film',\n",
       " 'gain_control',\n",
       " 'gps_altitude',\n",
       " 'gps_altitude_ref',\n",
       " 'gps_latitude',\n",
       " 'gps_latitude_ref',\n",
       " 'gps_longitude',\n",
       " 'gps_longitude_ref',\n",
       " 'gps_version_id',\n",
       " 'image_description',\n",
       " 'image_height',\n",
       " 'image_width',\n",
       " 'jpeg_interchange_format',\n",
       " 'jpeg_interchange_format_length',\n",
       " 'lens_specification',\n",
       " 'light_source',\n",
       " 'make',\n",
       " 'maker_note',\n",
       " 'max_aperture_value',\n",
       " 'metering_mode',\n",
       " 'model',\n",
       " 'orientation',\n",
       " 'photographic_sensitivity',\n",
       " 'pixel_x_dimension',\n",
       " 'pixel_y_dimension',\n",
       " 'resolution_unit',\n",
       " 'samples_per_pixel',\n",
       " 'saturation',\n",
       " 'scene_capture_type',\n",
       " 'scene_type',\n",
       " 'sharpness',\n",
       " 'software',\n",
       " 'white_balance',\n",
       " 'x_resolution',\n",
       " 'xp_comment',\n",
       " 'xp_keywords',\n",
       " 'y_and_c_positioning',\n",
       " 'y_resolution']"
      ]
     },
     "execution_count": 5,
     "metadata": {},
     "output_type": "execute_result"
    }
   ],
   "source": [
    "sorted(image.list_all())"
   ]
  },
  {
   "cell_type": "code",
   "execution_count": 8,
   "metadata": {},
   "outputs": [
    {
     "name": "stdout",
     "output_type": "stream",
     "text": [
      "126.0\n",
      "(0.0, 0.0, 0.0)\n",
      "(0.0, 0.0, 0.0)\n"
     ]
    }
   ],
   "source": [
    "print(image.get(\"gps_altitude\"))\n",
    "print(image.get(\"gps_latitude\"))\n",
    "print(image.get(\"gps_longitude\"))"
   ]
  },
  {
   "cell_type": "code",
   "execution_count": null,
   "metadata": {},
   "outputs": [],
   "source": []
  }
 ],
 "metadata": {
  "interpreter": {
   "hash": "a2c6551309025b92d2abf30bf9f2f95546dc72c0ba600e4f63b32edc6fccb019"
  },
  "kernelspec": {
   "display_name": "Python 3.7.9 64-bit",
   "language": "python",
   "name": "python3"
  },
  "language_info": {
   "codemirror_mode": {
    "name": "ipython",
    "version": 3
   },
   "file_extension": ".py",
   "mimetype": "text/x-python",
   "name": "python",
   "nbconvert_exporter": "python",
   "pygments_lexer": "ipython3",
   "version": "3.7.9"
  },
  "orig_nbformat": 4
 },
 "nbformat": 4,
 "nbformat_minor": 2
}
